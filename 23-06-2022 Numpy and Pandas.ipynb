{
 "cells": [
  {
   "cell_type": "code",
   "execution_count": 1,
   "metadata": {},
   "outputs": [
    {
     "name": "stdout",
     "output_type": "stream",
     "text": [
      "Enter value of i:7\n",
      "Enter value of j:9\n",
      "j is greater\n",
      "End of the Programme\n"
     ]
    }
   ],
   "source": [
    "i = int(input('Enter value of i:'))\n",
    "j = int(input('Enter value of j:'))\n",
    "if i>j:\n",
    "    print('i is greater')\n",
    "elif j>i:\n",
    "    print('j is greater')\n",
    "else:\n",
    "    print('both are equal')\n",
    "print('End of the Programme')"
   ]
  },
  {
   "cell_type": "code",
   "execution_count": 1,
   "metadata": {},
   "outputs": [
    {
     "data": {
      "text/plain": [
       "3"
      ]
     },
     "execution_count": 1,
     "metadata": {},
     "output_type": "execute_result"
    }
   ],
   "source": [
    "1+2"
   ]
  },
  {
   "cell_type": "code",
   "execution_count": 1,
   "metadata": {},
   "outputs": [],
   "source": [
    "import numpy as np"
   ]
  },
  {
   "cell_type": "code",
   "execution_count": 12,
   "metadata": {},
   "outputs": [
    {
     "data": {
      "text/plain": [
       "array([1, 2, 3, 4, 5])"
      ]
     },
     "execution_count": 12,
     "metadata": {},
     "output_type": "execute_result"
    }
   ],
   "source": [
    "x = np.array([1,2,3,4,5])\n",
    "x"
   ]
  },
  {
   "cell_type": "code",
   "execution_count": 13,
   "metadata": {},
   "outputs": [
    {
     "data": {
      "text/plain": [
       "array([2, 3, 4, 5, 6])"
      ]
     },
     "execution_count": 13,
     "metadata": {},
     "output_type": "execute_result"
    }
   ],
   "source": [
    "y = np.array([2,3,4,5,6])\n",
    "y"
   ]
  },
  {
   "cell_type": "code",
   "execution_count": 14,
   "metadata": {},
   "outputs": [],
   "source": [
    "idx = np.searchsorted(x, y)\n",
    "#idx[idx == len(x)] = 0\n",
    "#mask = x[idx] == y"
   ]
  },
  {
   "cell_type": "code",
   "execution_count": 17,
   "metadata": {},
   "outputs": [
    {
     "data": {
      "text/plain": [
       "array([1, 2, 3, 4, 5], dtype=int64)"
      ]
     },
     "execution_count": 17,
     "metadata": {},
     "output_type": "execute_result"
    }
   ],
   "source": [
    "idx"
   ]
  },
  {
   "cell_type": "code",
   "execution_count": 18,
   "metadata": {},
   "outputs": [
    {
     "data": {
      "text/plain": [
       "array([False, False, False, False,  True])"
      ]
     },
     "execution_count": 18,
     "metadata": {},
     "output_type": "execute_result"
    }
   ],
   "source": [
    "idx == len(x)"
   ]
  },
  {
   "cell_type": "code",
   "execution_count": 10,
   "metadata": {},
   "outputs": [
    {
     "data": {
      "text/plain": [
       "array([], dtype=int64)"
      ]
     },
     "execution_count": 10,
     "metadata": {},
     "output_type": "execute_result"
    }
   ],
   "source": [
    "idx[idx == len(x)] = 0"
   ]
  },
  {
   "cell_type": "code",
   "execution_count": 8,
   "metadata": {},
   "outputs": [
    {
     "data": {
      "text/plain": [
       "array([ True,  True,  True,  True, False])"
      ]
     },
     "execution_count": 8,
     "metadata": {},
     "output_type": "execute_result"
    }
   ],
   "source": [
    "mask"
   ]
  },
  {
   "cell_type": "code",
   "execution_count": 7,
   "metadata": {},
   "outputs": [
    {
     "data": {
      "text/plain": [
       "numpy.ndarray"
      ]
     },
     "execution_count": 7,
     "metadata": {},
     "output_type": "execute_result"
    }
   ],
   "source": [
    "type(x)"
   ]
  },
  {
   "cell_type": "code",
   "execution_count": 9,
   "metadata": {},
   "outputs": [
    {
     "data": {
      "text/plain": [
       "array('i', [1, 2, 3, 4, 5])"
      ]
     },
     "execution_count": 9,
     "metadata": {},
     "output_type": "execute_result"
    }
   ],
   "source": [
    "import array as a\n",
    "y = a.array('i',[1,2,3,4,5])\n",
    "y"
   ]
  },
  {
   "cell_type": "code",
   "execution_count": 12,
   "metadata": {},
   "outputs": [
    {
     "name": "stdout",
     "output_type": "stream",
     "text": [
      "[67 78 84 57 90] [1.7  1.75 1.82 1.65 1.8 ]\n"
     ]
    }
   ],
   "source": [
    "wt = np.array([67,78,84,57,90])\n",
    "ht = np.array([1.7,1.75,1.82,1.65,1.8])\n",
    "print(wt,ht)"
   ]
  },
  {
   "cell_type": "code",
   "execution_count": 13,
   "metadata": {},
   "outputs": [
    {
     "data": {
      "text/plain": [
       "array([23.183391  , 25.46938776, 25.35925613, 20.93663912, 27.77777778])"
      ]
     },
     "execution_count": 13,
     "metadata": {},
     "output_type": "execute_result"
    }
   ],
   "source": [
    "bmi = wt/ht**2\n",
    "bmi"
   ]
  },
  {
   "cell_type": "code",
   "execution_count": 15,
   "metadata": {},
   "outputs": [
    {
     "data": {
      "text/plain": [
       "array([ 1,  4,  9, 16, 25], dtype=int32)"
      ]
     },
     "execution_count": 15,
     "metadata": {},
     "output_type": "execute_result"
    }
   ],
   "source": [
    "x = np.array([1,2,3,4,5])\n",
    "x**2"
   ]
  },
  {
   "cell_type": "code",
   "execution_count": 19,
   "metadata": {},
   "outputs": [
    {
     "data": {
      "text/plain": [
       "(array([0.        , 0.69314718, 1.09861229, 1.38629436, 1.60943791]),\n",
       " array([0.        , 1.        , 1.5849625 , 2.        , 2.32192809]),\n",
       " array([0.        , 0.30103   , 0.47712125, 0.60205999, 0.69897   ]))"
      ]
     },
     "execution_count": 19,
     "metadata": {},
     "output_type": "execute_result"
    }
   ],
   "source": [
    "np.log(x),np.log2(x),np.log10(x)"
   ]
  },
  {
   "cell_type": "code",
   "execution_count": 22,
   "metadata": {},
   "outputs": [
    {
     "data": {
      "text/plain": [
       "(array([0.        , 0.5       , 0.70710678, 0.8660254 , 1.        ]),\n",
       " array([1.00000000e+00, 8.66025404e-01, 7.07106781e-01, 5.00000000e-01,\n",
       "        6.12323400e-17]),\n",
       " array([0.00000000e+00, 5.77350269e-01, 1.00000000e+00, 1.73205081e+00,\n",
       "        1.63312394e+16]))"
      ]
     },
     "execution_count": 22,
     "metadata": {},
     "output_type": "execute_result"
    }
   ],
   "source": [
    "angle = np.array([0,30,45,60,90])\n",
    "radians = np.radians(angle)\n",
    "np.sin(radians),np.cos(radians),np.tan(radians)"
   ]
  },
  {
   "cell_type": "code",
   "execution_count": 28,
   "metadata": {},
   "outputs": [
    {
     "data": {
      "text/plain": [
       "array([10., 12.])"
      ]
     },
     "execution_count": 28,
     "metadata": {},
     "output_type": "execute_result"
    }
   ],
   "source": [
    "np.sqrt([100,144])"
   ]
  },
  {
   "cell_type": "code",
   "execution_count": 35,
   "metadata": {},
   "outputs": [
    {
     "data": {
      "text/plain": [
       "(numpy.ndarray, (5,), 1, dtype('int32'), 4, 5)"
      ]
     },
     "execution_count": 35,
     "metadata": {},
     "output_type": "execute_result"
    }
   ],
   "source": [
    "type(x),x.shape,x.ndim,x.dtype,x.itemsize,len(x)"
   ]
  },
  {
   "cell_type": "code",
   "execution_count": 37,
   "metadata": {},
   "outputs": [
    {
     "name": "stdout",
     "output_type": "stream",
     "text": [
      "[[ 4  2  7]\n",
      " [ 6  1  2]\n",
      " [ 8  4 12]\n",
      " [ 9  3  6]]\n"
     ]
    }
   ],
   "source": [
    "x1 = np.array([[4,2,7],[6,1,2],[8,4,12],[9,3,6]])\n",
    "print(x1)"
   ]
  },
  {
   "cell_type": "code",
   "execution_count": 41,
   "metadata": {},
   "outputs": [
    {
     "data": {
      "text/plain": [
       "(numpy.ndarray, 2, (4, 3), dtype('int32'), 4)"
      ]
     },
     "execution_count": 41,
     "metadata": {},
     "output_type": "execute_result"
    }
   ],
   "source": [
    "type(x1),x1.ndim,x1.shape,x1.dtype,x1.itemsize"
   ]
  },
  {
   "cell_type": "code",
   "execution_count": 45,
   "metadata": {},
   "outputs": [
    {
     "data": {
      "text/plain": [
       "(1, (10,), array([0, 1, 2, 3, 4, 5, 6, 7, 8, 9]))"
      ]
     },
     "execution_count": 45,
     "metadata": {},
     "output_type": "execute_result"
    }
   ],
   "source": [
    "a  = np.arange(10)\n",
    "a.ndim,a.shape,a"
   ]
  },
  {
   "cell_type": "code",
   "execution_count": 46,
   "metadata": {},
   "outputs": [
    {
     "data": {
      "text/plain": [
       "array([ 0,  2,  4,  6,  8, 10, 12, 14, 16, 18, 20])"
      ]
     },
     "execution_count": 46,
     "metadata": {},
     "output_type": "execute_result"
    }
   ],
   "source": [
    "b = np.arange(0,21,2)\n",
    "b"
   ]
  },
  {
   "cell_type": "code",
   "execution_count": 51,
   "metadata": {},
   "outputs": [
    {
     "data": {
      "text/plain": [
       "array([20, 18, 16, 14, 12, 10,  8,  6,  4,  2,  0])"
      ]
     },
     "execution_count": 51,
     "metadata": {},
     "output_type": "execute_result"
    }
   ],
   "source": [
    "c = np.arange(20,-1,-2)\n",
    "c"
   ]
  },
  {
   "cell_type": "code",
   "execution_count": 72,
   "metadata": {},
   "outputs": [
    {
     "data": {
      "text/plain": [
       "((11,),\n",
       " array([0.05 , 0.145, 0.24 , 0.335, 0.43 , 0.525, 0.62 , 0.715, 0.81 ,\n",
       "        0.905, 1.   ]))"
      ]
     },
     "execution_count": 72,
     "metadata": {},
     "output_type": "execute_result"
    }
   ],
   "source": [
    "d = np.linspace(0.05,1,11,endpoint=True)\n",
    "d.shape,d"
   ]
  },
  {
   "cell_type": "code",
   "execution_count": 78,
   "metadata": {},
   "outputs": [
    {
     "data": {
      "text/plain": [
       "(1, 2)"
      ]
     },
     "execution_count": 78,
     "metadata": {},
     "output_type": "execute_result"
    }
   ],
   "source": [
    "a1 = a.reshape(2,5)\n",
    "a.ndim,a1.ndim"
   ]
  },
  {
   "cell_type": "code",
   "execution_count": 85,
   "metadata": {},
   "outputs": [],
   "source": [
    "a1 = a1.reshape(5,2)"
   ]
  },
  {
   "cell_type": "code",
   "execution_count": 86,
   "metadata": {},
   "outputs": [
    {
     "data": {
      "text/plain": [
       "array([[0, 1],\n",
       "       [2, 3],\n",
       "       [4, 5],\n",
       "       [6, 7],\n",
       "       [8, 9]])"
      ]
     },
     "execution_count": 86,
     "metadata": {},
     "output_type": "execute_result"
    }
   ],
   "source": [
    "a1"
   ]
  },
  {
   "cell_type": "code",
   "execution_count": 89,
   "metadata": {},
   "outputs": [
    {
     "data": {
      "text/plain": [
       "array([[1, 2, 3],\n",
       "       [4, 5, 6],\n",
       "       [7, 8, 9]])"
      ]
     },
     "execution_count": 89,
     "metadata": {},
     "output_type": "execute_result"
    }
   ],
   "source": [
    "x = np.arange(1,10).reshape(3,3)\n",
    "x"
   ]
  },
  {
   "cell_type": "code",
   "execution_count": 90,
   "metadata": {},
   "outputs": [
    {
     "data": {
      "text/plain": [
       "array([[10, 11, 12],\n",
       "       [13, 14, 15],\n",
       "       [16, 17, 18],\n",
       "       [19, 20, 21]])"
      ]
     },
     "execution_count": 90,
     "metadata": {},
     "output_type": "execute_result"
    }
   ],
   "source": [
    "y = np.arange(10,22).reshape(4,3)\n",
    "y"
   ]
  },
  {
   "cell_type": "code",
   "execution_count": 91,
   "metadata": {},
   "outputs": [
    {
     "data": {
      "text/plain": [
       "((3, 3), (4, 3))"
      ]
     },
     "execution_count": 91,
     "metadata": {},
     "output_type": "execute_result"
    }
   ],
   "source": [
    "x.shape,y.shape"
   ]
  },
  {
   "cell_type": "code",
   "execution_count": 93,
   "metadata": {},
   "outputs": [
    {
     "data": {
      "text/plain": [
       "array([[138, 171, 204],\n",
       "       [174, 216, 258],\n",
       "       [210, 261, 312],\n",
       "       [246, 306, 366]])"
      ]
     },
     "execution_count": 93,
     "metadata": {},
     "output_type": "execute_result"
    }
   ],
   "source": [
    "y.dot(x)"
   ]
  },
  {
   "cell_type": "code",
   "execution_count": 100,
   "metadata": {},
   "outputs": [
    {
     "data": {
      "text/plain": [
       "array([[ 1,  4,  9],\n",
       "       [16, 25, 36],\n",
       "       [49, 64, 81]])"
      ]
     },
     "execution_count": 100,
     "metadata": {},
     "output_type": "execute_result"
    }
   ],
   "source": [
    "x*x"
   ]
  },
  {
   "cell_type": "code",
   "execution_count": 103,
   "metadata": {},
   "outputs": [
    {
     "data": {
      "text/plain": [
       "array([[10, 11, 12],\n",
       "       [13, 14, 15],\n",
       "       [16, 17, 18],\n",
       "       [19, 20, 21]])"
      ]
     },
     "execution_count": 103,
     "metadata": {},
     "output_type": "execute_result"
    }
   ],
   "source": [
    "y"
   ]
  },
  {
   "cell_type": "code",
   "execution_count": 102,
   "metadata": {},
   "outputs": [
    {
     "data": {
      "text/plain": [
       "array([[10, 13, 16, 19],\n",
       "       [11, 14, 17, 20],\n",
       "       [12, 15, 18, 21]])"
      ]
     },
     "execution_count": 102,
     "metadata": {},
     "output_type": "execute_result"
    }
   ],
   "source": [
    "y_t = np.transpose(y)\n",
    "y_t"
   ]
  },
  {
   "cell_type": "code",
   "execution_count": 105,
   "metadata": {},
   "outputs": [
    {
     "data": {
      "text/plain": [
       "array([[ 365,  464,  563,  662],\n",
       "       [ 464,  590,  716,  842],\n",
       "       [ 563,  716,  869, 1022],\n",
       "       [ 662,  842, 1022, 1202]])"
      ]
     },
     "execution_count": 105,
     "metadata": {},
     "output_type": "execute_result"
    }
   ],
   "source": [
    "y.dot(y_t)"
   ]
  },
  {
   "cell_type": "code",
   "execution_count": 99,
   "metadata": {},
   "outputs": [
    {
     "data": {
      "text/plain": [
       "array([[ 30,  36,  42],\n",
       "       [ 66,  81,  96],\n",
       "       [102, 126, 150]])"
      ]
     },
     "execution_count": 99,
     "metadata": {},
     "output_type": "execute_result"
    }
   ],
   "source": [
    "x.dot(x)"
   ]
  },
  {
   "cell_type": "code",
   "execution_count": 109,
   "metadata": {},
   "outputs": [
    {
     "data": {
      "text/plain": [
       "array([[1., 0., 0., 0., 0.],\n",
       "       [0., 1., 0., 0., 0.],\n",
       "       [0., 0., 1., 0., 0.],\n",
       "       [0., 0., 0., 1., 0.],\n",
       "       [0., 0., 0., 0., 1.]])"
      ]
     },
     "execution_count": 109,
     "metadata": {},
     "output_type": "execute_result"
    }
   ],
   "source": [
    "I  = np.identity(5)\n",
    "I"
   ]
  },
  {
   "cell_type": "code",
   "execution_count": 108,
   "metadata": {},
   "outputs": [
    {
     "data": {
      "text/plain": [
       "array([[1., 2., 3.],\n",
       "       [4., 5., 6.],\n",
       "       [7., 8., 9.]])"
      ]
     },
     "execution_count": 108,
     "metadata": {},
     "output_type": "execute_result"
    }
   ],
   "source": [
    "x.dot(I)"
   ]
  },
  {
   "cell_type": "code",
   "execution_count": 116,
   "metadata": {},
   "outputs": [
    {
     "data": {
      "text/plain": [
       "array([[0., 0., 0., 0., 0.],\n",
       "       [0., 0., 0., 0., 0.],\n",
       "       [0., 0., 0., 0., 0.],\n",
       "       [0., 0., 0., 0., 0.],\n",
       "       [0., 0., 0., 0., 0.],\n",
       "       [0., 0., 0., 0., 0.],\n",
       "       [0., 0., 0., 0., 0.],\n",
       "       [0., 0., 0., 0., 0.],\n",
       "       [0., 0., 0., 0., 0.],\n",
       "       [0., 0., 0., 0., 0.]])"
      ]
     },
     "execution_count": 116,
     "metadata": {},
     "output_type": "execute_result"
    }
   ],
   "source": [
    "m = np.zeros((10,5))\n",
    "m"
   ]
  },
  {
   "cell_type": "code",
   "execution_count": 121,
   "metadata": {},
   "outputs": [
    {
     "data": {
      "text/plain": [
       "3"
      ]
     },
     "execution_count": 121,
     "metadata": {},
     "output_type": "execute_result"
    }
   ],
   "source": [
    "x = np.array([[[1,2,3,4],[5,6,7,8]],\n",
    "             [[10,20,30,40],[50,60,70,80]],\n",
    "             [[-1,-2,-3,4],[-5,-6,-7,-8]]])\n",
    "x.ndim"
   ]
  },
  {
   "cell_type": "code",
   "execution_count": 123,
   "metadata": {},
   "outputs": [
    {
     "data": {
      "text/plain": [
       "((3, 2, 4), 3)"
      ]
     },
     "execution_count": 123,
     "metadata": {},
     "output_type": "execute_result"
    }
   ],
   "source": [
    "x.shape,x.ndim"
   ]
  },
  {
   "cell_type": "code",
   "execution_count": 126,
   "metadata": {},
   "outputs": [
    {
     "data": {
      "text/plain": [
       "array([[[[1., 1., 1., 1., 1., 1.],\n",
       "         [1., 1., 1., 1., 1., 1.],\n",
       "         [1., 1., 1., 1., 1., 1.],\n",
       "         [1., 1., 1., 1., 1., 1.],\n",
       "         [1., 1., 1., 1., 1., 1.]],\n",
       "\n",
       "        [[1., 1., 1., 1., 1., 1.],\n",
       "         [1., 1., 1., 1., 1., 1.],\n",
       "         [1., 1., 1., 1., 1., 1.],\n",
       "         [1., 1., 1., 1., 1., 1.],\n",
       "         [1., 1., 1., 1., 1., 1.]]],\n",
       "\n",
       "\n",
       "       [[[1., 1., 1., 1., 1., 1.],\n",
       "         [1., 1., 1., 1., 1., 1.],\n",
       "         [1., 1., 1., 1., 1., 1.],\n",
       "         [1., 1., 1., 1., 1., 1.],\n",
       "         [1., 1., 1., 1., 1., 1.]],\n",
       "\n",
       "        [[1., 1., 1., 1., 1., 1.],\n",
       "         [1., 1., 1., 1., 1., 1.],\n",
       "         [1., 1., 1., 1., 1., 1.],\n",
       "         [1., 1., 1., 1., 1., 1.],\n",
       "         [1., 1., 1., 1., 1., 1.]]],\n",
       "\n",
       "\n",
       "       [[[1., 1., 1., 1., 1., 1.],\n",
       "         [1., 1., 1., 1., 1., 1.],\n",
       "         [1., 1., 1., 1., 1., 1.],\n",
       "         [1., 1., 1., 1., 1., 1.],\n",
       "         [1., 1., 1., 1., 1., 1.]],\n",
       "\n",
       "        [[1., 1., 1., 1., 1., 1.],\n",
       "         [1., 1., 1., 1., 1., 1.],\n",
       "         [1., 1., 1., 1., 1., 1.],\n",
       "         [1., 1., 1., 1., 1., 1.],\n",
       "         [1., 1., 1., 1., 1., 1.]]]])"
      ]
     },
     "execution_count": 126,
     "metadata": {},
     "output_type": "execute_result"
    }
   ],
   "source": [
    "np.ones((3,2,5,6))"
   ]
  },
  {
   "cell_type": "code",
   "execution_count": 133,
   "metadata": {},
   "outputs": [
    {
     "data": {
      "text/plain": [
       "array([[[0.        , 0.01694915, 0.03389831, 0.05084746, 0.06779661],\n",
       "        [0.08474576, 0.10169492, 0.11864407, 0.13559322, 0.15254237],\n",
       "        [0.16949153, 0.18644068, 0.20338983, 0.22033898, 0.23728814]],\n",
       "\n",
       "       [[0.25423729, 0.27118644, 0.28813559, 0.30508475, 0.3220339 ],\n",
       "        [0.33898305, 0.3559322 , 0.37288136, 0.38983051, 0.40677966],\n",
       "        [0.42372881, 0.44067797, 0.45762712, 0.47457627, 0.49152542]],\n",
       "\n",
       "       [[0.50847458, 0.52542373, 0.54237288, 0.55932203, 0.57627119],\n",
       "        [0.59322034, 0.61016949, 0.62711864, 0.6440678 , 0.66101695],\n",
       "        [0.6779661 , 0.69491525, 0.71186441, 0.72881356, 0.74576271]],\n",
       "\n",
       "       [[0.76271186, 0.77966102, 0.79661017, 0.81355932, 0.83050847],\n",
       "        [0.84745763, 0.86440678, 0.88135593, 0.89830508, 0.91525424],\n",
       "        [0.93220339, 0.94915254, 0.96610169, 0.98305085, 1.        ]]])"
      ]
     },
     "execution_count": 133,
     "metadata": {},
     "output_type": "execute_result"
    }
   ],
   "source": [
    "a = np.linspace(0,1,60).reshape(4,3,5)\n",
    "a"
   ]
  },
  {
   "cell_type": "code",
   "execution_count": 136,
   "metadata": {},
   "outputs": [
    {
     "data": {
      "text/plain": [
       "array([[0.84745763, 0.86440678, 0.88135593],\n",
       "       [0.93220339, 0.94915254, 0.96610169]])"
      ]
     },
     "execution_count": 136,
     "metadata": {},
     "output_type": "execute_result"
    }
   ],
   "source": [
    "a[-1,1:,:3]"
   ]
  },
  {
   "cell_type": "code",
   "execution_count": 165,
   "metadata": {},
   "outputs": [
    {
     "data": {
      "text/plain": [
       "array([[0.2091572 , 0.96208224, 0.42130703, 0.10669447],\n",
       "       [0.72808059, 0.48736301, 0.1622305 , 0.81775772],\n",
       "       [0.91794238, 0.27957606, 0.30472904, 0.08526768],\n",
       "       [0.66383829, 0.23153665, 0.01666967, 0.75486365],\n",
       "       [0.8009575 , 0.86546556, 0.985148  , 0.75006382]])"
      ]
     },
     "execution_count": 165,
     "metadata": {},
     "output_type": "execute_result"
    }
   ],
   "source": [
    "a = np.random.random_sample(20).reshape(5,4)\n",
    "a"
   ]
  },
  {
   "cell_type": "code",
   "execution_count": 211,
   "metadata": {},
   "outputs": [
    {
     "data": {
      "text/plain": [
       "array([[ 64,  78, 100,  85,  24,  81,  26,  94,  97,  78],\n",
       "       [ 91,  96,  20,  65,  41,  63,  27,  23,  29,  51],\n",
       "       [ 55,  62,  21,  35,  28,  78,  64,  54,  68,  73],\n",
       "       [ 39,  95,  22,  77,  65,  20,  49,  62,  51,  52],\n",
       "       [ 77,  45,  43,  73,  79,  90,  53,  22,  70,  31]])"
      ]
     },
     "execution_count": 211,
     "metadata": {},
     "output_type": "execute_result"
    }
   ],
   "source": [
    "marks = np.random.randint(20,101,50).reshape((5,10))\n",
    "marks\n"
   ]
  },
  {
   "cell_type": "code",
   "execution_count": 188,
   "metadata": {},
   "outputs": [
    {
     "name": "stdout",
     "output_type": "stream",
     "text": [
      "Requirement already satisfied: pandas in c:\\users\\vguttula\\anaconda3\\lib\\site-packages (1.4.2)\n",
      "Requirement already satisfied: pytz>=2020.1 in c:\\users\\vguttula\\anaconda3\\lib\\site-packages (from pandas) (2021.3)\n",
      "Requirement already satisfied: numpy>=1.18.5 in c:\\users\\vguttula\\anaconda3\\lib\\site-packages (from pandas) (1.21.5)\n",
      "Requirement already satisfied: python-dateutil>=2.8.1 in c:\\users\\vguttula\\anaconda3\\lib\\site-packages (from pandas) (2.8.2)\n",
      "Requirement already satisfied: six>=1.5 in c:\\users\\vguttula\\anaconda3\\lib\\site-packages (from python-dateutil>=2.8.1->pandas) (1.16.0)\n"
     ]
    }
   ],
   "source": [
    "!pip install pandas"
   ]
  },
  {
   "cell_type": "code",
   "execution_count": 198,
   "metadata": {},
   "outputs": [
    {
     "data": {
      "text/plain": [
       "pandas.core.frame.DataFrame"
      ]
     },
     "execution_count": 198,
     "metadata": {},
     "output_type": "execute_result"
    }
   ],
   "source": [
    "import pandas as pd\n",
    "students = pd.DataFrame({\"sid\":[1001,1002,1003,1004],'sname':['vamsi','ravi','uma','lakshmi'],\n",
    "             \"grade\":['A','A++','B','c+']})\n",
    "type(students)"
   ]
  },
  {
   "cell_type": "code",
   "execution_count": 199,
   "metadata": {},
   "outputs": [
    {
     "data": {
      "text/html": [
       "<div>\n",
       "<style scoped>\n",
       "    .dataframe tbody tr th:only-of-type {\n",
       "        vertical-align: middle;\n",
       "    }\n",
       "\n",
       "    .dataframe tbody tr th {\n",
       "        vertical-align: top;\n",
       "    }\n",
       "\n",
       "    .dataframe thead th {\n",
       "        text-align: right;\n",
       "    }\n",
       "</style>\n",
       "<table border=\"1\" class=\"dataframe\">\n",
       "  <thead>\n",
       "    <tr style=\"text-align: right;\">\n",
       "      <th></th>\n",
       "      <th>sid</th>\n",
       "      <th>sname</th>\n",
       "      <th>grade</th>\n",
       "    </tr>\n",
       "  </thead>\n",
       "  <tbody>\n",
       "    <tr>\n",
       "      <th>0</th>\n",
       "      <td>1001</td>\n",
       "      <td>vamsi</td>\n",
       "      <td>A</td>\n",
       "    </tr>\n",
       "    <tr>\n",
       "      <th>1</th>\n",
       "      <td>1002</td>\n",
       "      <td>ravi</td>\n",
       "      <td>A++</td>\n",
       "    </tr>\n",
       "    <tr>\n",
       "      <th>2</th>\n",
       "      <td>1003</td>\n",
       "      <td>uma</td>\n",
       "      <td>B</td>\n",
       "    </tr>\n",
       "    <tr>\n",
       "      <th>3</th>\n",
       "      <td>1004</td>\n",
       "      <td>lakshmi</td>\n",
       "      <td>c+</td>\n",
       "    </tr>\n",
       "  </tbody>\n",
       "</table>\n",
       "</div>"
      ],
      "text/plain": [
       "    sid    sname grade\n",
       "0  1001    vamsi     A\n",
       "1  1002     ravi   A++\n",
       "2  1003      uma     B\n",
       "3  1004  lakshmi    c+"
      ]
     },
     "execution_count": 199,
     "metadata": {},
     "output_type": "execute_result"
    }
   ],
   "source": [
    "students"
   ]
  },
  {
   "cell_type": "code",
   "execution_count": 203,
   "metadata": {},
   "outputs": [
    {
     "data": {
      "text/plain": [
       "((4, 3),\n",
       " 2,\n",
       " sid       int64\n",
       " sname    object\n",
       " grade    object\n",
       " dtype: object)"
      ]
     },
     "execution_count": 203,
     "metadata": {},
     "output_type": "execute_result"
    }
   ],
   "source": [
    "students.shape,students.ndim,students.dtypes"
   ]
  },
  {
   "cell_type": "code",
   "execution_count": 214,
   "metadata": {},
   "outputs": [
    {
     "data": {
      "text/html": [
       "<div>\n",
       "<style scoped>\n",
       "    .dataframe tbody tr th:only-of-type {\n",
       "        vertical-align: middle;\n",
       "    }\n",
       "\n",
       "    .dataframe tbody tr th {\n",
       "        vertical-align: top;\n",
       "    }\n",
       "\n",
       "    .dataframe thead th {\n",
       "        text-align: right;\n",
       "    }\n",
       "</style>\n",
       "<table border=\"1\" class=\"dataframe\">\n",
       "  <thead>\n",
       "    <tr style=\"text-align: right;\">\n",
       "      <th></th>\n",
       "      <th>s1</th>\n",
       "      <th>s2</th>\n",
       "      <th>s3</th>\n",
       "      <th>s4</th>\n",
       "      <th>s5</th>\n",
       "      <th>s6</th>\n",
       "      <th>s7</th>\n",
       "      <th>s8</th>\n",
       "      <th>s9</th>\n",
       "      <th>s10</th>\n",
       "    </tr>\n",
       "  </thead>\n",
       "  <tbody>\n",
       "    <tr>\n",
       "      <th>I</th>\n",
       "      <td>64</td>\n",
       "      <td>78</td>\n",
       "      <td>100</td>\n",
       "      <td>85</td>\n",
       "      <td>24</td>\n",
       "      <td>81</td>\n",
       "      <td>26</td>\n",
       "      <td>94</td>\n",
       "      <td>97</td>\n",
       "      <td>78</td>\n",
       "    </tr>\n",
       "    <tr>\n",
       "      <th>II</th>\n",
       "      <td>91</td>\n",
       "      <td>96</td>\n",
       "      <td>20</td>\n",
       "      <td>65</td>\n",
       "      <td>41</td>\n",
       "      <td>63</td>\n",
       "      <td>27</td>\n",
       "      <td>23</td>\n",
       "      <td>29</td>\n",
       "      <td>51</td>\n",
       "    </tr>\n",
       "    <tr>\n",
       "      <th>III</th>\n",
       "      <td>55</td>\n",
       "      <td>62</td>\n",
       "      <td>21</td>\n",
       "      <td>35</td>\n",
       "      <td>28</td>\n",
       "      <td>78</td>\n",
       "      <td>64</td>\n",
       "      <td>54</td>\n",
       "      <td>68</td>\n",
       "      <td>73</td>\n",
       "    </tr>\n",
       "    <tr>\n",
       "      <th>IV</th>\n",
       "      <td>39</td>\n",
       "      <td>95</td>\n",
       "      <td>22</td>\n",
       "      <td>77</td>\n",
       "      <td>65</td>\n",
       "      <td>20</td>\n",
       "      <td>49</td>\n",
       "      <td>62</td>\n",
       "      <td>51</td>\n",
       "      <td>52</td>\n",
       "    </tr>\n",
       "    <tr>\n",
       "      <th>V</th>\n",
       "      <td>77</td>\n",
       "      <td>45</td>\n",
       "      <td>43</td>\n",
       "      <td>73</td>\n",
       "      <td>79</td>\n",
       "      <td>90</td>\n",
       "      <td>53</td>\n",
       "      <td>22</td>\n",
       "      <td>70</td>\n",
       "      <td>31</td>\n",
       "    </tr>\n",
       "  </tbody>\n",
       "</table>\n",
       "</div>"
      ],
      "text/plain": [
       "     s1  s2   s3  s4  s5  s6  s7  s8  s9  s10\n",
       "I    64  78  100  85  24  81  26  94  97   78\n",
       "II   91  96   20  65  41  63  27  23  29   51\n",
       "III  55  62   21  35  28  78  64  54  68   73\n",
       "IV   39  95   22  77  65  20  49  62  51   52\n",
       "V    77  45   43  73  79  90  53  22  70   31"
      ]
     },
     "execution_count": 214,
     "metadata": {},
     "output_type": "execute_result"
    }
   ],
   "source": [
    "marks = pd.DataFrame(marks,\n",
    "                     index=['I','II','III','IV','V'],\n",
    "                     columns=['s1','s2','s3','s4','s5','s6','s7','s8','s9','s10'])\n",
    "marks"
   ]
  },
  {
   "cell_type": "code",
   "execution_count": 215,
   "metadata": {},
   "outputs": [
    {
     "data": {
      "text/plain": [
       "Index(['s1', 's2', 's3', 's4', 's5', 's6', 's7', 's8', 's9', 's10'], dtype='object')"
      ]
     },
     "execution_count": 215,
     "metadata": {},
     "output_type": "execute_result"
    }
   ],
   "source": [
    "marks.columns"
   ]
  },
  {
   "cell_type": "code",
   "execution_count": 216,
   "metadata": {},
   "outputs": [
    {
     "data": {
      "text/plain": [
       "Index(['I', 'II', 'III', 'IV', 'V'], dtype='object')"
      ]
     },
     "execution_count": 216,
     "metadata": {},
     "output_type": "execute_result"
    }
   ],
   "source": [
    "marks.index"
   ]
  },
  {
   "cell_type": "code",
   "execution_count": 218,
   "metadata": {},
   "outputs": [
    {
     "data": {
      "text/plain": [
       "('1.4.2', '1.21.5')"
      ]
     },
     "execution_count": 218,
     "metadata": {},
     "output_type": "execute_result"
    }
   ],
   "source": [
    "pd.__version__,np.__version__"
   ]
  },
  {
   "cell_type": "code",
   "execution_count": 226,
   "metadata": {},
   "outputs": [
    {
     "data": {
      "text/plain": [
       "(150, 6)"
      ]
     },
     "execution_count": 226,
     "metadata": {},
     "output_type": "execute_result"
    }
   ],
   "source": [
    "cars = pd.read_csv('data/usedcars.csv')\n",
    "cars.shape"
   ]
  },
  {
   "cell_type": "code",
   "execution_count": 227,
   "metadata": {},
   "outputs": [
    {
     "data": {
      "text/html": [
       "<div>\n",
       "<style scoped>\n",
       "    .dataframe tbody tr th:only-of-type {\n",
       "        vertical-align: middle;\n",
       "    }\n",
       "\n",
       "    .dataframe tbody tr th {\n",
       "        vertical-align: top;\n",
       "    }\n",
       "\n",
       "    .dataframe thead th {\n",
       "        text-align: right;\n",
       "    }\n",
       "</style>\n",
       "<table border=\"1\" class=\"dataframe\">\n",
       "  <thead>\n",
       "    <tr style=\"text-align: right;\">\n",
       "      <th></th>\n",
       "      <th>year</th>\n",
       "      <th>model</th>\n",
       "      <th>price</th>\n",
       "      <th>mileage</th>\n",
       "      <th>color</th>\n",
       "      <th>transmission</th>\n",
       "    </tr>\n",
       "  </thead>\n",
       "  <tbody>\n",
       "    <tr>\n",
       "      <th>0</th>\n",
       "      <td>2011</td>\n",
       "      <td>SEL</td>\n",
       "      <td>21992</td>\n",
       "      <td>7413</td>\n",
       "      <td>Yellow</td>\n",
       "      <td>AUTO</td>\n",
       "    </tr>\n",
       "    <tr>\n",
       "      <th>1</th>\n",
       "      <td>2011</td>\n",
       "      <td>SEL</td>\n",
       "      <td>20995</td>\n",
       "      <td>10926</td>\n",
       "      <td>Gray</td>\n",
       "      <td>AUTO</td>\n",
       "    </tr>\n",
       "    <tr>\n",
       "      <th>2</th>\n",
       "      <td>2011</td>\n",
       "      <td>SEL</td>\n",
       "      <td>19995</td>\n",
       "      <td>7351</td>\n",
       "      <td>Silver</td>\n",
       "      <td>AUTO</td>\n",
       "    </tr>\n",
       "    <tr>\n",
       "      <th>3</th>\n",
       "      <td>2011</td>\n",
       "      <td>SEL</td>\n",
       "      <td>17809</td>\n",
       "      <td>11613</td>\n",
       "      <td>Gray</td>\n",
       "      <td>AUTO</td>\n",
       "    </tr>\n",
       "    <tr>\n",
       "      <th>4</th>\n",
       "      <td>2012</td>\n",
       "      <td>SE</td>\n",
       "      <td>17500</td>\n",
       "      <td>8367</td>\n",
       "      <td>White</td>\n",
       "      <td>AUTO</td>\n",
       "    </tr>\n",
       "    <tr>\n",
       "      <th>...</th>\n",
       "      <td>...</td>\n",
       "      <td>...</td>\n",
       "      <td>...</td>\n",
       "      <td>...</td>\n",
       "      <td>...</td>\n",
       "      <td>...</td>\n",
       "    </tr>\n",
       "    <tr>\n",
       "      <th>145</th>\n",
       "      <td>2006</td>\n",
       "      <td>SES</td>\n",
       "      <td>6200</td>\n",
       "      <td>95000</td>\n",
       "      <td>Silver</td>\n",
       "      <td>AUTO</td>\n",
       "    </tr>\n",
       "    <tr>\n",
       "      <th>146</th>\n",
       "      <td>2002</td>\n",
       "      <td>SE</td>\n",
       "      <td>5995</td>\n",
       "      <td>87003</td>\n",
       "      <td>Red</td>\n",
       "      <td>AUTO</td>\n",
       "    </tr>\n",
       "    <tr>\n",
       "      <th>147</th>\n",
       "      <td>2000</td>\n",
       "      <td>SE</td>\n",
       "      <td>5980</td>\n",
       "      <td>96841</td>\n",
       "      <td>Red</td>\n",
       "      <td>AUTO</td>\n",
       "    </tr>\n",
       "    <tr>\n",
       "      <th>148</th>\n",
       "      <td>2001</td>\n",
       "      <td>SE</td>\n",
       "      <td>4899</td>\n",
       "      <td>151479</td>\n",
       "      <td>Yellow</td>\n",
       "      <td>AUTO</td>\n",
       "    </tr>\n",
       "    <tr>\n",
       "      <th>149</th>\n",
       "      <td>2000</td>\n",
       "      <td>SE</td>\n",
       "      <td>3800</td>\n",
       "      <td>109259</td>\n",
       "      <td>Red</td>\n",
       "      <td>AUTO</td>\n",
       "    </tr>\n",
       "  </tbody>\n",
       "</table>\n",
       "<p>150 rows × 6 columns</p>\n",
       "</div>"
      ],
      "text/plain": [
       "     year model  price  mileage   color transmission\n",
       "0    2011   SEL  21992     7413  Yellow         AUTO\n",
       "1    2011   SEL  20995    10926    Gray         AUTO\n",
       "2    2011   SEL  19995     7351  Silver         AUTO\n",
       "3    2011   SEL  17809    11613    Gray         AUTO\n",
       "4    2012    SE  17500     8367   White         AUTO\n",
       "..    ...   ...    ...      ...     ...          ...\n",
       "145  2006   SES   6200    95000  Silver         AUTO\n",
       "146  2002    SE   5995    87003     Red         AUTO\n",
       "147  2000    SE   5980    96841     Red         AUTO\n",
       "148  2001    SE   4899   151479  Yellow         AUTO\n",
       "149  2000    SE   3800   109259     Red         AUTO\n",
       "\n",
       "[150 rows x 6 columns]"
      ]
     },
     "execution_count": 227,
     "metadata": {},
     "output_type": "execute_result"
    }
   ],
   "source": [
    "cars"
   ]
  },
  {
   "cell_type": "code",
   "execution_count": 1,
   "metadata": {},
   "outputs": [
    {
     "ename": "NameError",
     "evalue": "name 'pd' is not defined",
     "output_type": "error",
     "traceback": [
      "\u001b[1;31m---------------------------------------------------------------------------\u001b[0m",
      "\u001b[1;31mNameError\u001b[0m                                 Traceback (most recent call last)",
      "\u001b[1;32m<ipython-input-1-9e198ef703f9>\u001b[0m in \u001b[0;36m<module>\u001b[1;34m()\u001b[0m\n\u001b[1;32m----> 1\u001b[1;33m \u001b[0mcars1\u001b[0m \u001b[1;33m=\u001b[0m \u001b[0mpd\u001b[0m\u001b[1;33m.\u001b[0m\u001b[0mread_table\u001b[0m\u001b[1;33m(\u001b[0m\u001b[1;34m'data/usedcars.csv'\u001b[0m\u001b[1;33m,\u001b[0m\u001b[0msep\u001b[0m\u001b[1;33m=\u001b[0m\u001b[1;34m','\u001b[0m\u001b[1;33m)\u001b[0m\u001b[1;33m\u001b[0m\u001b[0m\n\u001b[0m\u001b[0;32m      2\u001b[0m \u001b[0mcars1\u001b[0m\u001b[1;33m\u001b[0m\u001b[0m\n",
      "\u001b[1;31mNameError\u001b[0m: name 'pd' is not defined"
     ]
    }
   ],
   "source": [
    "cars1 = pd.read_table('data/usedcars.csv',sep=',')\n",
    "cars1"
   ]
  },
  {
   "cell_type": "code",
   "execution_count": 2,
   "metadata": {},
   "outputs": [],
   "source": [
    "import pandas as pd"
   ]
  },
  {
   "cell_type": "code",
   "execution_count": 9,
   "metadata": {},
   "outputs": [
    {
     "name": "stdout",
     "output_type": "stream",
     "text": [
      "<class 'pandas.core.frame.DataFrame'>\n",
      "RangeIndex: 35064 entries, 0 to 35063\n",
      "Data columns (total 29 columns):\n",
      " #   Column                                       Non-Null Count  Dtype  \n",
      "---  ------                                       --------------  -----  \n",
      " 0   time                                         35064 non-null  object \n",
      " 1   generation biomass                           35045 non-null  float64\n",
      " 2   generation fossil brown coal/lignite         35046 non-null  float64\n",
      " 3   generation fossil coal-derived gas           35046 non-null  float64\n",
      " 4   generation fossil gas                        35046 non-null  float64\n",
      " 5   generation fossil hard coal                  35046 non-null  float64\n",
      " 6   generation fossil oil                        35045 non-null  float64\n",
      " 7   generation fossil oil shale                  35046 non-null  float64\n",
      " 8   generation fossil peat                       35046 non-null  float64\n",
      " 9   generation geothermal                        35046 non-null  float64\n",
      " 10  generation hydro pumped storage aggregated   0 non-null      float64\n",
      " 11  generation hydro pumped storage consumption  35045 non-null  float64\n",
      " 12  generation hydro run-of-river and poundage   35045 non-null  float64\n",
      " 13  generation hydro water reservoir             35046 non-null  float64\n",
      " 14  generation marine                            35045 non-null  float64\n",
      " 15  generation nuclear                           35047 non-null  float64\n",
      " 16  generation other                             35046 non-null  float64\n",
      " 17  generation other renewable                   35046 non-null  float64\n",
      " 18  generation solar                             35046 non-null  float64\n",
      " 19  generation waste                             35045 non-null  float64\n",
      " 20  generation wind offshore                     35046 non-null  float64\n",
      " 21  generation wind onshore                      35046 non-null  float64\n",
      " 22  forecast solar day ahead                     35064 non-null  float64\n",
      " 23  forecast wind offshore eday ahead            0 non-null      float64\n",
      " 24  forecast wind onshore day ahead              35064 non-null  float64\n",
      " 25  total load forecast                          35064 non-null  float64\n",
      " 26  total load actual                            35028 non-null  float64\n",
      " 27  price day ahead                              35064 non-null  float64\n",
      " 28  price actual                                 35064 non-null  float64\n",
      "dtypes: float64(28), object(1)\n",
      "memory usage: 7.8+ MB\n"
     ]
    }
   ],
   "source": [
    "df = pd.read_csv('Data/energy_dataset.csv')\n",
    "df.info()"
   ]
  },
  {
   "cell_type": "code",
   "execution_count": 10,
   "metadata": {},
   "outputs": [],
   "source": [
    "df = df.drop('generation hydro pumped storage aggregated',axis=1) #large number of null values\n",
    "df = df.drop('forecast wind offshore eday ahead',axis = 1) #large number of null values\n",
    "df = df.drop(['generation fossil oil shale','generation fossil peat','generation geothermal'],axis = 1) # all zeroes\n",
    "df = df.drop('generation fossil coal-derived gas',axis=1) # all zeroes\n",
    "df = df.drop(['generation marine','generation wind offshore'],axis=1) #all zeroes\n",
    "df.interpolate(method='ffill', limit_direction='forward', inplace=True, axis=0)"
   ]
  },
  {
   "cell_type": "code",
   "execution_count": 11,
   "metadata": {},
   "outputs": [
    {
     "data": {
      "text/html": [
       "<div>\n",
       "<style scoped>\n",
       "    .dataframe tbody tr th:only-of-type {\n",
       "        vertical-align: middle;\n",
       "    }\n",
       "\n",
       "    .dataframe tbody tr th {\n",
       "        vertical-align: top;\n",
       "    }\n",
       "\n",
       "    .dataframe thead th {\n",
       "        text-align: right;\n",
       "    }\n",
       "</style>\n",
       "<table border=\"1\" class=\"dataframe\">\n",
       "  <thead>\n",
       "    <tr style=\"text-align: right;\">\n",
       "      <th></th>\n",
       "      <th>time</th>\n",
       "      <th>generation biomass</th>\n",
       "      <th>generation fossil brown coal/lignite</th>\n",
       "      <th>generation fossil gas</th>\n",
       "      <th>generation fossil hard coal</th>\n",
       "      <th>generation fossil oil</th>\n",
       "      <th>generation hydro pumped storage consumption</th>\n",
       "      <th>generation hydro run-of-river and poundage</th>\n",
       "      <th>generation hydro water reservoir</th>\n",
       "      <th>generation nuclear</th>\n",
       "      <th>...</th>\n",
       "      <th>generation other renewable</th>\n",
       "      <th>generation solar</th>\n",
       "      <th>generation waste</th>\n",
       "      <th>generation wind onshore</th>\n",
       "      <th>forecast solar day ahead</th>\n",
       "      <th>forecast wind onshore day ahead</th>\n",
       "      <th>total load forecast</th>\n",
       "      <th>total load actual</th>\n",
       "      <th>price day ahead</th>\n",
       "      <th>price actual</th>\n",
       "    </tr>\n",
       "  </thead>\n",
       "  <tbody>\n",
       "    <tr>\n",
       "      <th>0</th>\n",
       "      <td>2015-01-01 00:00:00+01:00</td>\n",
       "      <td>447.0</td>\n",
       "      <td>329.0</td>\n",
       "      <td>4844.0</td>\n",
       "      <td>4821.0</td>\n",
       "      <td>162.0</td>\n",
       "      <td>863.0</td>\n",
       "      <td>1051.0</td>\n",
       "      <td>1899.0</td>\n",
       "      <td>7096.0</td>\n",
       "      <td>...</td>\n",
       "      <td>73.0</td>\n",
       "      <td>49.0</td>\n",
       "      <td>196.0</td>\n",
       "      <td>6378.0</td>\n",
       "      <td>17.0</td>\n",
       "      <td>6436.0</td>\n",
       "      <td>26118.0</td>\n",
       "      <td>25385.0</td>\n",
       "      <td>50.10</td>\n",
       "      <td>65.41</td>\n",
       "    </tr>\n",
       "    <tr>\n",
       "      <th>1</th>\n",
       "      <td>2015-01-01 01:00:00+01:00</td>\n",
       "      <td>449.0</td>\n",
       "      <td>328.0</td>\n",
       "      <td>5196.0</td>\n",
       "      <td>4755.0</td>\n",
       "      <td>158.0</td>\n",
       "      <td>920.0</td>\n",
       "      <td>1009.0</td>\n",
       "      <td>1658.0</td>\n",
       "      <td>7096.0</td>\n",
       "      <td>...</td>\n",
       "      <td>71.0</td>\n",
       "      <td>50.0</td>\n",
       "      <td>195.0</td>\n",
       "      <td>5890.0</td>\n",
       "      <td>16.0</td>\n",
       "      <td>5856.0</td>\n",
       "      <td>24934.0</td>\n",
       "      <td>24382.0</td>\n",
       "      <td>48.10</td>\n",
       "      <td>64.92</td>\n",
       "    </tr>\n",
       "    <tr>\n",
       "      <th>2</th>\n",
       "      <td>2015-01-01 02:00:00+01:00</td>\n",
       "      <td>448.0</td>\n",
       "      <td>323.0</td>\n",
       "      <td>4857.0</td>\n",
       "      <td>4581.0</td>\n",
       "      <td>157.0</td>\n",
       "      <td>1164.0</td>\n",
       "      <td>973.0</td>\n",
       "      <td>1371.0</td>\n",
       "      <td>7099.0</td>\n",
       "      <td>...</td>\n",
       "      <td>73.0</td>\n",
       "      <td>50.0</td>\n",
       "      <td>196.0</td>\n",
       "      <td>5461.0</td>\n",
       "      <td>8.0</td>\n",
       "      <td>5454.0</td>\n",
       "      <td>23515.0</td>\n",
       "      <td>22734.0</td>\n",
       "      <td>47.33</td>\n",
       "      <td>64.48</td>\n",
       "    </tr>\n",
       "    <tr>\n",
       "      <th>3</th>\n",
       "      <td>2015-01-01 03:00:00+01:00</td>\n",
       "      <td>438.0</td>\n",
       "      <td>254.0</td>\n",
       "      <td>4314.0</td>\n",
       "      <td>4131.0</td>\n",
       "      <td>160.0</td>\n",
       "      <td>1503.0</td>\n",
       "      <td>949.0</td>\n",
       "      <td>779.0</td>\n",
       "      <td>7098.0</td>\n",
       "      <td>...</td>\n",
       "      <td>75.0</td>\n",
       "      <td>50.0</td>\n",
       "      <td>191.0</td>\n",
       "      <td>5238.0</td>\n",
       "      <td>2.0</td>\n",
       "      <td>5151.0</td>\n",
       "      <td>22642.0</td>\n",
       "      <td>21286.0</td>\n",
       "      <td>42.27</td>\n",
       "      <td>59.32</td>\n",
       "    </tr>\n",
       "    <tr>\n",
       "      <th>4</th>\n",
       "      <td>2015-01-01 04:00:00+01:00</td>\n",
       "      <td>428.0</td>\n",
       "      <td>187.0</td>\n",
       "      <td>4130.0</td>\n",
       "      <td>3840.0</td>\n",
       "      <td>156.0</td>\n",
       "      <td>1826.0</td>\n",
       "      <td>953.0</td>\n",
       "      <td>720.0</td>\n",
       "      <td>7097.0</td>\n",
       "      <td>...</td>\n",
       "      <td>74.0</td>\n",
       "      <td>42.0</td>\n",
       "      <td>189.0</td>\n",
       "      <td>4935.0</td>\n",
       "      <td>9.0</td>\n",
       "      <td>4861.0</td>\n",
       "      <td>21785.0</td>\n",
       "      <td>20264.0</td>\n",
       "      <td>38.41</td>\n",
       "      <td>56.04</td>\n",
       "    </tr>\n",
       "    <tr>\n",
       "      <th>...</th>\n",
       "      <td>...</td>\n",
       "      <td>...</td>\n",
       "      <td>...</td>\n",
       "      <td>...</td>\n",
       "      <td>...</td>\n",
       "      <td>...</td>\n",
       "      <td>...</td>\n",
       "      <td>...</td>\n",
       "      <td>...</td>\n",
       "      <td>...</td>\n",
       "      <td>...</td>\n",
       "      <td>...</td>\n",
       "      <td>...</td>\n",
       "      <td>...</td>\n",
       "      <td>...</td>\n",
       "      <td>...</td>\n",
       "      <td>...</td>\n",
       "      <td>...</td>\n",
       "      <td>...</td>\n",
       "      <td>...</td>\n",
       "      <td>...</td>\n",
       "    </tr>\n",
       "    <tr>\n",
       "      <th>35059</th>\n",
       "      <td>2018-12-31 19:00:00+01:00</td>\n",
       "      <td>297.0</td>\n",
       "      <td>0.0</td>\n",
       "      <td>7634.0</td>\n",
       "      <td>2628.0</td>\n",
       "      <td>178.0</td>\n",
       "      <td>1.0</td>\n",
       "      <td>1135.0</td>\n",
       "      <td>4836.0</td>\n",
       "      <td>6073.0</td>\n",
       "      <td>...</td>\n",
       "      <td>95.0</td>\n",
       "      <td>85.0</td>\n",
       "      <td>277.0</td>\n",
       "      <td>3113.0</td>\n",
       "      <td>96.0</td>\n",
       "      <td>3253.0</td>\n",
       "      <td>30619.0</td>\n",
       "      <td>30653.0</td>\n",
       "      <td>68.85</td>\n",
       "      <td>77.02</td>\n",
       "    </tr>\n",
       "    <tr>\n",
       "      <th>35060</th>\n",
       "      <td>2018-12-31 20:00:00+01:00</td>\n",
       "      <td>296.0</td>\n",
       "      <td>0.0</td>\n",
       "      <td>7241.0</td>\n",
       "      <td>2566.0</td>\n",
       "      <td>174.0</td>\n",
       "      <td>1.0</td>\n",
       "      <td>1172.0</td>\n",
       "      <td>3931.0</td>\n",
       "      <td>6074.0</td>\n",
       "      <td>...</td>\n",
       "      <td>95.0</td>\n",
       "      <td>33.0</td>\n",
       "      <td>280.0</td>\n",
       "      <td>3288.0</td>\n",
       "      <td>51.0</td>\n",
       "      <td>3353.0</td>\n",
       "      <td>29932.0</td>\n",
       "      <td>29735.0</td>\n",
       "      <td>68.40</td>\n",
       "      <td>76.16</td>\n",
       "    </tr>\n",
       "    <tr>\n",
       "      <th>35061</th>\n",
       "      <td>2018-12-31 21:00:00+01:00</td>\n",
       "      <td>292.0</td>\n",
       "      <td>0.0</td>\n",
       "      <td>7025.0</td>\n",
       "      <td>2422.0</td>\n",
       "      <td>168.0</td>\n",
       "      <td>50.0</td>\n",
       "      <td>1148.0</td>\n",
       "      <td>2831.0</td>\n",
       "      <td>6076.0</td>\n",
       "      <td>...</td>\n",
       "      <td>94.0</td>\n",
       "      <td>31.0</td>\n",
       "      <td>286.0</td>\n",
       "      <td>3503.0</td>\n",
       "      <td>36.0</td>\n",
       "      <td>3404.0</td>\n",
       "      <td>27903.0</td>\n",
       "      <td>28071.0</td>\n",
       "      <td>66.88</td>\n",
       "      <td>74.30</td>\n",
       "    </tr>\n",
       "    <tr>\n",
       "      <th>35062</th>\n",
       "      <td>2018-12-31 22:00:00+01:00</td>\n",
       "      <td>293.0</td>\n",
       "      <td>0.0</td>\n",
       "      <td>6562.0</td>\n",
       "      <td>2293.0</td>\n",
       "      <td>163.0</td>\n",
       "      <td>108.0</td>\n",
       "      <td>1128.0</td>\n",
       "      <td>2068.0</td>\n",
       "      <td>6075.0</td>\n",
       "      <td>...</td>\n",
       "      <td>93.0</td>\n",
       "      <td>31.0</td>\n",
       "      <td>287.0</td>\n",
       "      <td>3586.0</td>\n",
       "      <td>29.0</td>\n",
       "      <td>3273.0</td>\n",
       "      <td>25450.0</td>\n",
       "      <td>25801.0</td>\n",
       "      <td>63.93</td>\n",
       "      <td>69.89</td>\n",
       "    </tr>\n",
       "    <tr>\n",
       "      <th>35063</th>\n",
       "      <td>2018-12-31 23:00:00+01:00</td>\n",
       "      <td>290.0</td>\n",
       "      <td>0.0</td>\n",
       "      <td>6926.0</td>\n",
       "      <td>2166.0</td>\n",
       "      <td>163.0</td>\n",
       "      <td>108.0</td>\n",
       "      <td>1069.0</td>\n",
       "      <td>1686.0</td>\n",
       "      <td>6075.0</td>\n",
       "      <td>...</td>\n",
       "      <td>92.0</td>\n",
       "      <td>31.0</td>\n",
       "      <td>287.0</td>\n",
       "      <td>3651.0</td>\n",
       "      <td>26.0</td>\n",
       "      <td>3117.0</td>\n",
       "      <td>24424.0</td>\n",
       "      <td>24455.0</td>\n",
       "      <td>64.27</td>\n",
       "      <td>69.88</td>\n",
       "    </tr>\n",
       "  </tbody>\n",
       "</table>\n",
       "<p>35064 rows × 21 columns</p>\n",
       "</div>"
      ],
      "text/plain": [
       "                            time  generation biomass  \\\n",
       "0      2015-01-01 00:00:00+01:00               447.0   \n",
       "1      2015-01-01 01:00:00+01:00               449.0   \n",
       "2      2015-01-01 02:00:00+01:00               448.0   \n",
       "3      2015-01-01 03:00:00+01:00               438.0   \n",
       "4      2015-01-01 04:00:00+01:00               428.0   \n",
       "...                          ...                 ...   \n",
       "35059  2018-12-31 19:00:00+01:00               297.0   \n",
       "35060  2018-12-31 20:00:00+01:00               296.0   \n",
       "35061  2018-12-31 21:00:00+01:00               292.0   \n",
       "35062  2018-12-31 22:00:00+01:00               293.0   \n",
       "35063  2018-12-31 23:00:00+01:00               290.0   \n",
       "\n",
       "       generation fossil brown coal/lignite  generation fossil gas  \\\n",
       "0                                     329.0                 4844.0   \n",
       "1                                     328.0                 5196.0   \n",
       "2                                     323.0                 4857.0   \n",
       "3                                     254.0                 4314.0   \n",
       "4                                     187.0                 4130.0   \n",
       "...                                     ...                    ...   \n",
       "35059                                   0.0                 7634.0   \n",
       "35060                                   0.0                 7241.0   \n",
       "35061                                   0.0                 7025.0   \n",
       "35062                                   0.0                 6562.0   \n",
       "35063                                   0.0                 6926.0   \n",
       "\n",
       "       generation fossil hard coal  generation fossil oil  \\\n",
       "0                           4821.0                  162.0   \n",
       "1                           4755.0                  158.0   \n",
       "2                           4581.0                  157.0   \n",
       "3                           4131.0                  160.0   \n",
       "4                           3840.0                  156.0   \n",
       "...                            ...                    ...   \n",
       "35059                       2628.0                  178.0   \n",
       "35060                       2566.0                  174.0   \n",
       "35061                       2422.0                  168.0   \n",
       "35062                       2293.0                  163.0   \n",
       "35063                       2166.0                  163.0   \n",
       "\n",
       "       generation hydro pumped storage consumption  \\\n",
       "0                                            863.0   \n",
       "1                                            920.0   \n",
       "2                                           1164.0   \n",
       "3                                           1503.0   \n",
       "4                                           1826.0   \n",
       "...                                            ...   \n",
       "35059                                          1.0   \n",
       "35060                                          1.0   \n",
       "35061                                         50.0   \n",
       "35062                                        108.0   \n",
       "35063                                        108.0   \n",
       "\n",
       "       generation hydro run-of-river and poundage  \\\n",
       "0                                          1051.0   \n",
       "1                                          1009.0   \n",
       "2                                           973.0   \n",
       "3                                           949.0   \n",
       "4                                           953.0   \n",
       "...                                           ...   \n",
       "35059                                      1135.0   \n",
       "35060                                      1172.0   \n",
       "35061                                      1148.0   \n",
       "35062                                      1128.0   \n",
       "35063                                      1069.0   \n",
       "\n",
       "       generation hydro water reservoir  generation nuclear  ...  \\\n",
       "0                                1899.0              7096.0  ...   \n",
       "1                                1658.0              7096.0  ...   \n",
       "2                                1371.0              7099.0  ...   \n",
       "3                                 779.0              7098.0  ...   \n",
       "4                                 720.0              7097.0  ...   \n",
       "...                                 ...                 ...  ...   \n",
       "35059                            4836.0              6073.0  ...   \n",
       "35060                            3931.0              6074.0  ...   \n",
       "35061                            2831.0              6076.0  ...   \n",
       "35062                            2068.0              6075.0  ...   \n",
       "35063                            1686.0              6075.0  ...   \n",
       "\n",
       "       generation other renewable  generation solar  generation waste  \\\n",
       "0                            73.0              49.0             196.0   \n",
       "1                            71.0              50.0             195.0   \n",
       "2                            73.0              50.0             196.0   \n",
       "3                            75.0              50.0             191.0   \n",
       "4                            74.0              42.0             189.0   \n",
       "...                           ...               ...               ...   \n",
       "35059                        95.0              85.0             277.0   \n",
       "35060                        95.0              33.0             280.0   \n",
       "35061                        94.0              31.0             286.0   \n",
       "35062                        93.0              31.0             287.0   \n",
       "35063                        92.0              31.0             287.0   \n",
       "\n",
       "       generation wind onshore  forecast solar day ahead  \\\n",
       "0                       6378.0                      17.0   \n",
       "1                       5890.0                      16.0   \n",
       "2                       5461.0                       8.0   \n",
       "3                       5238.0                       2.0   \n",
       "4                       4935.0                       9.0   \n",
       "...                        ...                       ...   \n",
       "35059                   3113.0                      96.0   \n",
       "35060                   3288.0                      51.0   \n",
       "35061                   3503.0                      36.0   \n",
       "35062                   3586.0                      29.0   \n",
       "35063                   3651.0                      26.0   \n",
       "\n",
       "       forecast wind onshore day ahead  total load forecast  \\\n",
       "0                               6436.0              26118.0   \n",
       "1                               5856.0              24934.0   \n",
       "2                               5454.0              23515.0   \n",
       "3                               5151.0              22642.0   \n",
       "4                               4861.0              21785.0   \n",
       "...                                ...                  ...   \n",
       "35059                           3253.0              30619.0   \n",
       "35060                           3353.0              29932.0   \n",
       "35061                           3404.0              27903.0   \n",
       "35062                           3273.0              25450.0   \n",
       "35063                           3117.0              24424.0   \n",
       "\n",
       "       total load actual  price day ahead  price actual  \n",
       "0                25385.0            50.10         65.41  \n",
       "1                24382.0            48.10         64.92  \n",
       "2                22734.0            47.33         64.48  \n",
       "3                21286.0            42.27         59.32  \n",
       "4                20264.0            38.41         56.04  \n",
       "...                  ...              ...           ...  \n",
       "35059            30653.0            68.85         77.02  \n",
       "35060            29735.0            68.40         76.16  \n",
       "35061            28071.0            66.88         74.30  \n",
       "35062            25801.0            63.93         69.89  \n",
       "35063            24455.0            64.27         69.88  \n",
       "\n",
       "[35064 rows x 21 columns]"
      ]
     },
     "execution_count": 11,
     "metadata": {},
     "output_type": "execute_result"
    }
   ],
   "source": [
    "df"
   ]
  },
  {
   "cell_type": "code",
   "execution_count": 17,
   "metadata": {},
   "outputs": [],
   "source": [
    "df['attribute'] = 1"
   ]
  },
  {
   "cell_type": "code",
   "execution_count": 12,
   "metadata": {},
   "outputs": [
    {
     "name": "stdout",
     "output_type": "stream",
     "text": [
      "<class 'pandas.core.frame.DataFrame'>\n",
      "RangeIndex: 35064 entries, 0 to 35063\n",
      "Data columns (total 21 columns):\n",
      " #   Column                                       Non-Null Count  Dtype  \n",
      "---  ------                                       --------------  -----  \n",
      " 0   time                                         35064 non-null  object \n",
      " 1   generation biomass                           35064 non-null  float64\n",
      " 2   generation fossil brown coal/lignite         35064 non-null  float64\n",
      " 3   generation fossil gas                        35064 non-null  float64\n",
      " 4   generation fossil hard coal                  35064 non-null  float64\n",
      " 5   generation fossil oil                        35064 non-null  float64\n",
      " 6   generation hydro pumped storage consumption  35064 non-null  float64\n",
      " 7   generation hydro run-of-river and poundage   35064 non-null  float64\n",
      " 8   generation hydro water reservoir             35064 non-null  float64\n",
      " 9   generation nuclear                           35064 non-null  float64\n",
      " 10  generation other                             35064 non-null  float64\n",
      " 11  generation other renewable                   35064 non-null  float64\n",
      " 12  generation solar                             35064 non-null  float64\n",
      " 13  generation waste                             35064 non-null  float64\n",
      " 14  generation wind onshore                      35064 non-null  float64\n",
      " 15  forecast solar day ahead                     35064 non-null  float64\n",
      " 16  forecast wind onshore day ahead              35064 non-null  float64\n",
      " 17  total load forecast                          35064 non-null  float64\n",
      " 18  total load actual                            35064 non-null  float64\n",
      " 19  price day ahead                              35064 non-null  float64\n",
      " 20  price actual                                 35064 non-null  float64\n",
      "dtypes: float64(20), object(1)\n",
      "memory usage: 5.6+ MB\n"
     ]
    }
   ],
   "source": [
    "df.info()"
   ]
  },
  {
   "cell_type": "code",
   "execution_count": 24,
   "metadata": {},
   "outputs": [],
   "source": [
    "#df1 = df.iloc[:30000]\n",
    "df2 = df.iloc[30000:]"
   ]
  },
  {
   "cell_type": "code",
   "execution_count": 21,
   "metadata": {},
   "outputs": [],
   "source": [
    "df1.to_csv('energy_train.csv')\n",
    "df2.to_csv('energy_test.csv')"
   ]
  },
  {
   "cell_type": "code",
   "execution_count": 28,
   "metadata": {},
   "outputs": [
    {
     "name": "stdout",
     "output_type": "stream",
     "text": [
      "<class 'pandas.core.frame.DataFrame'>\n",
      "RangeIndex: 30000 entries, 0 to 29999\n",
      "Data columns (total 22 columns):\n",
      " #   Column                                       Non-Null Count  Dtype  \n",
      "---  ------                                       --------------  -----  \n",
      " 0   time                                         30000 non-null  object \n",
      " 1   generation biomass                           30000 non-null  float64\n",
      " 2   generation fossil brown coal/lignite         30000 non-null  float64\n",
      " 3   generation fossil gas                        30000 non-null  float64\n",
      " 4   generation fossil hard coal                  30000 non-null  float64\n",
      " 5   generation fossil oil                        30000 non-null  float64\n",
      " 6   generation hydro pumped storage consumption  30000 non-null  float64\n",
      " 7   generation hydro run-of-river and poundage   30000 non-null  float64\n",
      " 8   generation hydro water reservoir             30000 non-null  float64\n",
      " 9   generation nuclear                           30000 non-null  float64\n",
      " 10  generation other                             30000 non-null  float64\n",
      " 11  generation other renewable                   30000 non-null  float64\n",
      " 12  generation solar                             30000 non-null  float64\n",
      " 13  generation waste                             30000 non-null  float64\n",
      " 14  generation wind onshore                      30000 non-null  float64\n",
      " 15  forecast solar day ahead                     30000 non-null  float64\n",
      " 16  forecast wind onshore day ahead              30000 non-null  float64\n",
      " 17  total load forecast                          30000 non-null  float64\n",
      " 18  total load actual                            30000 non-null  float64\n",
      " 19  price day ahead                              30000 non-null  float64\n",
      " 20  price actual                                 30000 non-null  float64\n",
      " 21  attribute                                    30000 non-null  int64  \n",
      "dtypes: float64(20), int64(1), object(1)\n",
      "memory usage: 5.0+ MB\n"
     ]
    }
   ],
   "source": [
    "df1.info()"
   ]
  },
  {
   "cell_type": "code",
   "execution_count": 70,
   "metadata": {},
   "outputs": [],
   "source": [
    "df3 = pd.read_csv('energy_train.csv')"
   ]
  },
  {
   "cell_type": "code",
   "execution_count": 71,
   "metadata": {},
   "outputs": [
    {
     "name": "stdout",
     "output_type": "stream",
     "text": [
      "<class 'pandas.core.frame.DataFrame'>\n",
      "RangeIndex: 30000 entries, 0 to 29999\n",
      "Data columns (total 22 columns):\n",
      " #   Column                                   Non-Null Count  Dtype  \n",
      "---  ------                                   --------------  -----  \n",
      " 0   time                                     30000 non-null  object \n",
      " 1   generation_biomass                       30000 non-null  int64  \n",
      " 2   generationfossilbrowncoallignite         30000 non-null  int64  \n",
      " 3   generationfossilgas                      30000 non-null  int64  \n",
      " 4   generationfossilhardcoal                 30000 non-null  int64  \n",
      " 5   generationfossiloil                      30000 non-null  int64  \n",
      " 6   generationhydropumpedstorageconsumption  30000 non-null  int64  \n",
      " 7   generationhydrorunofriverandpoundage     30000 non-null  int64  \n",
      " 8   generationhydrowaterreservoir            30000 non-null  int64  \n",
      " 9   generationnuclear                        30000 non-null  int64  \n",
      " 10  generationother                          30000 non-null  int64  \n",
      " 11  generationotherrenewable                 30000 non-null  int64  \n",
      " 12  generationsolar                          30000 non-null  int64  \n",
      " 13  generationwaste                          30000 non-null  int64  \n",
      " 14  generationwindonshore                    30000 non-null  int64  \n",
      " 15  forecastsolardayahead                    30000 non-null  int64  \n",
      " 16  forecastwindonshoredayahead              30000 non-null  int64  \n",
      " 17  totalloadforecast                        30000 non-null  int64  \n",
      " 18  totalloadactual                          30000 non-null  int64  \n",
      " 19  pricedayahead                            30000 non-null  float64\n",
      " 20  price_actual                             30000 non-null  float64\n",
      " 21  attribute                                30000 non-null  int64  \n",
      "dtypes: float64(2), int64(19), object(1)\n",
      "memory usage: 5.0+ MB\n"
     ]
    }
   ],
   "source": [
    "df3.info()"
   ]
  },
  {
   "cell_type": "code",
   "execution_count": 45,
   "metadata": {},
   "outputs": [],
   "source": [
    "df3.rename(columns = {'price actual':'price_actual'},inplace=True)\n",
    "df3.rename(columns = {'generation biomass':'generation_biomass','generation fossil brown coal/lignite':'generationfossilbrowncoallignite',\n",
    "                       'generation fossil gas':'generationfossilgas','generation fossil hard coal':'generationfossilhardcoal',\n",
    "                     'generation fossil oil':'generationfossiloil','generation hydro pumped storage consumption':'generationhydropumpedstorageconsumption',\n",
    "                     'generation hydro run-of-river and poundage':'generationhydrorunofriverandpoundage','generation hydro water reservoir':'generationhydrowaterreservoir',\n",
    "                     'generation nuclear':'generationnuclear','generation other':'generationother','generation other renewable ':'generationotherrenewable ',\n",
    "                     'generation solar':'generationsolar','generation waste':'generationwaste','generation wind onshore':'generationwindonshore',\n",
    "                     'forecast solar day ahead':'forecastsolardayahead','forecast wind onshore day ahead':'forecastwindonshoredayahead',\n",
    "                     'total load forecast':'totalloadforecast','total load actual':'totalloadactual','price day ahead':'pricedayahead'},inplace=True)"
   ]
  },
  {
   "cell_type": "code",
   "execution_count": 72,
   "metadata": {},
   "outputs": [],
   "source": [
    "df3.rename(columns = {'generationfossilbrowncoal/lignite':'generationfossilbrowncoallignite'\n",
    "                     },inplace=True)"
   ]
  },
  {
   "cell_type": "code",
   "execution_count": 73,
   "metadata": {},
   "outputs": [
    {
     "name": "stdout",
     "output_type": "stream",
     "text": [
      "<class 'pandas.core.frame.DataFrame'>\n",
      "RangeIndex: 30000 entries, 0 to 29999\n",
      "Data columns (total 22 columns):\n",
      " #   Column                                   Non-Null Count  Dtype  \n",
      "---  ------                                   --------------  -----  \n",
      " 0   time                                     30000 non-null  object \n",
      " 1   generation_biomass                       30000 non-null  int64  \n",
      " 2   generationfossilbrowncoallignite         30000 non-null  int64  \n",
      " 3   generationfossilgas                      30000 non-null  int64  \n",
      " 4   generationfossilhardcoal                 30000 non-null  int64  \n",
      " 5   generationfossiloil                      30000 non-null  int64  \n",
      " 6   generationhydropumpedstorageconsumption  30000 non-null  int64  \n",
      " 7   generationhydrorunofriverandpoundage     30000 non-null  int64  \n",
      " 8   generationhydrowaterreservoir            30000 non-null  int64  \n",
      " 9   generationnuclear                        30000 non-null  int64  \n",
      " 10  generationother                          30000 non-null  int64  \n",
      " 11  generationotherrenewable                 30000 non-null  int64  \n",
      " 12  generationsolar                          30000 non-null  int64  \n",
      " 13  generationwaste                          30000 non-null  int64  \n",
      " 14  generationwindonshore                    30000 non-null  int64  \n",
      " 15  forecastsolardayahead                    30000 non-null  int64  \n",
      " 16  forecastwindonshoredayahead              30000 non-null  int64  \n",
      " 17  totalloadforecast                        30000 non-null  int64  \n",
      " 18  totalloadactual                          30000 non-null  int64  \n",
      " 19  pricedayahead                            30000 non-null  float64\n",
      " 20  price_actual                             30000 non-null  float64\n",
      " 21  attribute                                30000 non-null  int64  \n",
      "dtypes: float64(2), int64(19), object(1)\n",
      "memory usage: 5.0+ MB\n"
     ]
    }
   ],
   "source": [
    "df3.info()"
   ]
  },
  {
   "cell_type": "code",
   "execution_count": 74,
   "metadata": {},
   "outputs": [],
   "source": [
    "df3.to_csv('energy_train.csv')"
   ]
  },
  {
   "cell_type": "code",
   "execution_count": 78,
   "metadata": {},
   "outputs": [],
   "source": [
    "df4 = pd.read_csv('energy_train.csv')"
   ]
  },
  {
   "cell_type": "code",
   "execution_count": 79,
   "metadata": {},
   "outputs": [
    {
     "name": "stdout",
     "output_type": "stream",
     "text": [
      "<class 'pandas.core.frame.DataFrame'>\n",
      "RangeIndex: 30000 entries, 0 to 29999\n",
      "Data columns (total 22 columns):\n",
      " #   Column                                   Non-Null Count  Dtype  \n",
      "---  ------                                   --------------  -----  \n",
      " 0   time                                     30000 non-null  object \n",
      " 1   generation_biomass                       30000 non-null  int64  \n",
      " 2   generationfossilbrowncoallignite         30000 non-null  int64  \n",
      " 3   generationfossilgas                      30000 non-null  int64  \n",
      " 4   generationfossilhardcoal                 30000 non-null  int64  \n",
      " 5   generationfossiloil                      30000 non-null  int64  \n",
      " 6   generationhydropumpedstorageconsumption  30000 non-null  int64  \n",
      " 7   generationhydrorunofriverandpoundage     30000 non-null  int64  \n",
      " 8   generationhydrowaterreservoir            30000 non-null  int64  \n",
      " 9   generationnuclear                        30000 non-null  int64  \n",
      " 10  generationother                          30000 non-null  int64  \n",
      " 11  generationotherrenewable                 30000 non-null  int64  \n",
      " 12  generationsolar                          30000 non-null  int64  \n",
      " 13  generationwaste                          30000 non-null  int64  \n",
      " 14  generationwindonshore                    30000 non-null  int64  \n",
      " 15  forecastsolardayahead                    30000 non-null  int64  \n",
      " 16  forecastwindonshoredayahead              30000 non-null  int64  \n",
      " 17  totalloadforecast                        30000 non-null  int64  \n",
      " 18  totalloadactual                          30000 non-null  int64  \n",
      " 19  pricedayahead                            30000 non-null  float64\n",
      " 20  price_actual                             30000 non-null  float64\n",
      " 21  attribute                                30000 non-null  int64  \n",
      "dtypes: float64(2), int64(19), object(1)\n",
      "memory usage: 5.0+ MB\n"
     ]
    }
   ],
   "source": [
    "df4.info()"
   ]
  },
  {
   "cell_type": "code",
   "execution_count": 1,
   "metadata": {},
   "outputs": [],
   "source": [
    "import numpy as np\n",
    "import pandas as pd"
   ]
  },
  {
   "cell_type": "code",
   "execution_count": 12,
   "metadata": {},
   "outputs": [],
   "source": [
    "a = [1,10,5,4,9,6,7,2,4,20]"
   ]
  },
  {
   "cell_type": "code",
   "execution_count": 15,
   "metadata": {},
   "outputs": [
    {
     "data": {
      "text/plain": [
       "(array([2, 2, 2, 1, 2, 0, 0, 0, 0, 1], dtype=int64),\n",
       " array([ 1. ,  2.9,  4.8,  6.7,  8.6, 10.5, 12.4, 14.3, 16.2, 18.1, 20. ]))"
      ]
     },
     "execution_count": 15,
     "metadata": {},
     "output_type": "execute_result"
    }
   ],
   "source": [
    "k = np.histogram(a)\n",
    "k"
   ]
  },
  {
   "cell_type": "code",
   "execution_count": 9,
   "metadata": {},
   "outputs": [
    {
     "data": {
      "text/plain": [
       "array([ 1. ,  2.8,  4.6,  6.4,  8.2, 10. ])"
      ]
     },
     "execution_count": 9,
     "metadata": {},
     "output_type": "execute_result"
    }
   ],
   "source": [
    "k[1]"
   ]
  },
  {
   "cell_type": "code",
   "execution_count": 5,
   "metadata": {},
   "outputs": [],
   "source": [
    "import matplotlib.pyplot as plt\n"
   ]
  },
  {
   "cell_type": "code",
   "execution_count": 14,
   "metadata": {},
   "outputs": [
    {
     "data": {
      "text/plain": [
       "[<matplotlib.lines.Line2D at 0x26b0a9ecb00>]"
      ]
     },
     "execution_count": 14,
     "metadata": {},
     "output_type": "execute_result"
    },
    {
     "data": {
      "image/png": "[encoded data removed]",
      "text/plain": [
       "<Figure size 432x288 with 1 Axes>"
      ]
     },
     "metadata": {
      "needs_background": "light"
     },
     "output_type": "display_data"
    }
   ],
   "source": [
    "plt.plot(k[0])\n",
    "plt.plot(k[1])"
   ]
  },
  {
   "cell_type": "code",
   "execution_count": 3,
   "metadata": {},
   "outputs": [],
   "source": [
    "k = [0.0,1.1]"
   ]
  },
  {
   "cell_type": "code",
   "execution_count": 2,
   "metadata": {},
   "outputs": [
    {
     "data": {
      "text/plain": [
       "list"
      ]
     },
     "execution_count": 2,
     "metadata": {},
     "output_type": "execute_result"
    }
   ],
   "source": [
    "type(k)"
   ]
  },
  {
   "cell_type": "code",
   "execution_count": 4,
   "metadata": {},
   "outputs": [
    {
     "data": {
      "text/plain": [
       "float"
      ]
     },
     "execution_count": 4,
     "metadata": {},
     "output_type": "execute_result"
    }
   ],
   "source": [
    "type(k[0])"
   ]
  },
  {
   "cell_type": "code",
   "execution_count": 7,
   "metadata": {},
   "outputs": [],
   "source": [
    "from array import array"
   ]
  },
  {
   "cell_type": "code",
   "execution_count": 9,
   "metadata": {},
   "outputs": [
    {
     "ename": "AttributeError",
     "evalue": "'list' object has no attribute 'itemsize'",
     "output_type": "error",
     "traceback": [
      "\u001b[1;31m---------------------------------------------------------------------------\u001b[0m",
      "\u001b[1;31mAttributeError\u001b[0m                            Traceback (most recent call last)",
      "\u001b[1;32m<ipython-input-9-23366a96c9a5>\u001b[0m in \u001b[0;36m<module>\u001b[1;34m()\u001b[0m\n\u001b[1;32m----> 1\u001b[1;33m \u001b[0mk\u001b[0m\u001b[1;33m.\u001b[0m\u001b[0mitemsize\u001b[0m\u001b[1;33m\u001b[0m\u001b[0m\n\u001b[0m",
      "\u001b[1;31mAttributeError\u001b[0m: 'list' object has no attribute 'itemsize'"
     ]
    }
   ],
   "source": [
    "k.itemsize"
   ]
  },
  {
   "cell_type": "code",
   "execution_count": 10,
   "metadata": {},
   "outputs": [
    {
     "data": {
      "text/plain": [
       "float"
      ]
     },
     "execution_count": 10,
     "metadata": {},
     "output_type": "execute_result"
    }
   ],
   "source": [
    "type(0.0)"
   ]
  },
  {
   "cell_type": "code",
   "execution_count": null,
   "metadata": {},
   "outputs": [],
   "source": []
  }
 ],
 "metadata": {
  "kernelspec": {
   "display_name": "Python 3",
   "language": "python",
   "name": "python3"
  },
  "language_info": {
   "codemirror_mode": {
    "name": "ipython",
    "version": 3
   },
   "file_extension": ".py",
   "mimetype": "text/x-python",
   "name": "python",
   "nbconvert_exporter": "python",
   "pygments_lexer": "ipython3",
   "version": "3.7.0"
  }
 },
 "nbformat": 4,
 "nbformat_minor": 5
}
